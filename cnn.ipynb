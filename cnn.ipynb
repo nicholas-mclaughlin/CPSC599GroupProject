{
  "nbformat": 4,
  "nbformat_minor": 0,
  "metadata": {
    "colab": {
      "name": "cnn.ipynb",
      "provenance": [],
      "collapsed_sections": [],
      "toc_visible": true
    },
    "kernelspec": {
      "name": "python3",
      "display_name": "Python 3"
    },
    "language_info": {
      "name": "python"
    },
    "accelerator": "TPU"
  },
  "cells": [
    {
      "cell_type": "code",
      "metadata": {
        "colab": {
          "base_uri": "https://localhost:8080/"
        },
        "id": "LXxgeODBAxW1",
        "outputId": "2a059248-0f54-465b-e190-4fa1272afac5"
      },
      "source": [
        "#Lan Jin\n",
        "\n",
        "'''\n",
        "The Google Colab link for CNN model is: https://colab.research.google.com/drive/1iv7WFsqMX9SASDNnGordLPn26rPWMxbh?usp=sharing\n",
        "\n",
        "'''\n",
        "\n",
        "from google.colab import drive\n",
        "drive.mount('/content/drive')"
      ],
      "execution_count": null,
      "outputs": [
        {
          "output_type": "stream",
          "text": [
            "Mounted at /content/drive\n"
          ],
          "name": "stdout"
        }
      ]
    },
    {
      "cell_type": "code",
      "metadata": {
        "colab": {
          "base_uri": "https://localhost:8080/"
        },
        "id": "tZlPMiEaGOLu",
        "outputId": "ec0ae093-99b6-4f34-8401-382d10131ebd"
      },
      "source": [
        "import tensorflow as tf\n",
        "import os\n",
        "import numpy as np\n",
        "import matplotlib.pyplot as plt\n",
        "\n",
        "%matplotlib inline\n",
        "\n",
        "cwd = os.getcwd()\n",
        "\n",
        "print(cwd)"
      ],
      "execution_count": null,
      "outputs": [
        {
          "output_type": "stream",
          "text": [
            "/content\n"
          ],
          "name": "stdout"
        }
      ]
    },
    {
      "cell_type": "markdown",
      "metadata": {
        "id": "u5Ei8LoVaRQV"
      },
      "source": [
        "**Import Database**"
      ]
    },
    {
      "cell_type": "code",
      "metadata": {
        "colab": {
          "base_uri": "https://localhost:8080/"
        },
        "id": "Hrfmp1-7GUhk",
        "outputId": "9dda6d52-5d5e-4c80-fee3-5886149aabc4"
      },
      "source": [
        "img_rows, img_cols = 28, 28\n",
        "\n",
        "# in order to run the code on Google colab, \n",
        "# users need to upload the \".npy\" files to the Google colab first\n",
        "# then \"copy file path\" and pasted it in the following line of code\n",
        "\n",
        "data_dir = os.path.join(cwd, \"..\", \"/content/drive/My Drive/database\")\n",
        "print(data_dir)\n",
        "\n",
        "FILES = os.listdir(data_dir)\n",
        "FILES = [x for x in FILES if x.endswith('.npy')]\n",
        "FILES = sorted(FILES)\n",
        "FILES = FILES[0:10]\n",
        "\n",
        "LABELS = [file.replace(\".npy\", \"\") for file in FILES]\n",
        "LABELS = [label.replace(\"full_numpy_bitmap_\", \"\") for label in LABELS]\n",
        "\n",
        "num_classes = len(LABELS)\n",
        "print(FILES)\n",
        "print(LABELS)\n",
        "print(num_classes)"
      ],
      "execution_count": null,
      "outputs": [
        {
          "output_type": "stream",
          "text": [
            "/content/drive/My Drive/database\n",
            "['The Eiffel Tower.npy', 'The Great Wall of China.npy', 'The Mona Lisa.npy', 'aircraft carrier.npy', 'airplane.npy', 'alarm clock.npy', 'ambulance.npy', 'angel.npy', 'animal migration.npy', 'ant.npy']\n",
            "['The Eiffel Tower', 'The Great Wall of China', 'The Mona Lisa', 'aircraft carrier', 'airplane', 'alarm clock', 'ambulance', 'angel', 'animal migration', 'ant']\n",
            "10\n"
          ],
          "name": "stdout"
        }
      ]
    },
    {
      "cell_type": "markdown",
      "metadata": {
        "id": "U_6hBt-5acbE"
      },
      "source": [
        "**Part I - Data Preprocessing**"
      ]
    },
    {
      "cell_type": "code",
      "metadata": {
        "colab": {
          "base_uri": "https://localhost:8080/"
        },
        "id": "vFbjYHxgkGU9",
        "outputId": "93ea5332-3a44-4bd1-b899-ee6b03531beb"
      },
      "source": [
        "# Dataset with where each entry is label concatenated with flattened numpy image\n",
        "data = np.array([]).reshape(0, img_rows * img_cols)\n",
        "target = np.array([]).reshape(0, 1)\n",
        "  \n",
        "i = 0\n",
        "for numpy_file in FILES:\n",
        "    print(\"--> Loading the numpy file: {}\".format(numpy_file))\n",
        "    # Load numpy file\n",
        "    data_i = np.load(os.path.join(data_dir, numpy_file))\n",
        "    # Create array of labels based on the class and number of samples in the file\n",
        "    data_num_samples = len(data_i)\n",
        "    target_i = np.ones(data_num_samples, dtype=int) * i\n",
        "    target_i = target_i[:, np.newaxis]\n",
        "\n",
        "    data = np.append(data, data_i[8000:11000], axis=0)\n",
        "    target = np.append(target, target_i[8000:11000], axis=0)\n",
        "\n",
        "    i += 1\n",
        "    print(\"Current data array shape: {}\".format(data.shape))\n",
        "    print(\"Current target array shape: {}\".format(target.shape))\n",
        "\n",
        "# np.random.shuffle(dataset)\n",
        "# dataset_len = len(dataset)\n",
        "\n",
        "print(\"_________________________\")\n",
        "print(\"Final data array shape: {}\".format(data.shape))\n",
        "print(\"Final target array shape: {}\".format(target.shape))"
      ],
      "execution_count": null,
      "outputs": [
        {
          "output_type": "stream",
          "text": [
            "--> Loading the numpy file: The Eiffel Tower.npy\n",
            "Current data array shape: (3000, 784)\n",
            "Current target array shape: (3000, 1)\n",
            "--> Loading the numpy file: The Great Wall of China.npy\n",
            "Current data array shape: (6000, 784)\n",
            "Current target array shape: (6000, 1)\n",
            "--> Loading the numpy file: The Mona Lisa.npy\n",
            "Current data array shape: (9000, 784)\n",
            "Current target array shape: (9000, 1)\n",
            "--> Loading the numpy file: aircraft carrier.npy\n",
            "Current data array shape: (12000, 784)\n",
            "Current target array shape: (12000, 1)\n",
            "--> Loading the numpy file: airplane.npy\n",
            "Current data array shape: (15000, 784)\n",
            "Current target array shape: (15000, 1)\n",
            "--> Loading the numpy file: alarm clock.npy\n",
            "Current data array shape: (18000, 784)\n",
            "Current target array shape: (18000, 1)\n",
            "--> Loading the numpy file: ambulance.npy\n",
            "Current data array shape: (21000, 784)\n",
            "Current target array shape: (21000, 1)\n",
            "--> Loading the numpy file: angel.npy\n",
            "Current data array shape: (24000, 784)\n",
            "Current target array shape: (24000, 1)\n",
            "--> Loading the numpy file: animal migration.npy\n",
            "Current data array shape: (27000, 784)\n",
            "Current target array shape: (27000, 1)\n",
            "--> Loading the numpy file: ant.npy\n",
            "Current data array shape: (30000, 784)\n",
            "Current target array shape: (30000, 1)\n",
            "_________________________\n",
            "Final data array shape: (30000, 784)\n",
            "Final target array shape: (30000, 1)\n"
          ],
          "name": "stdout"
        }
      ]
    },
    {
      "cell_type": "code",
      "metadata": {
        "colab": {
          "base_uri": "https://localhost:8080/"
        },
        "id": "4cw7XQZ_tydC",
        "outputId": "b4bf1003-9de6-437c-a447-f4eadea2e40a"
      },
      "source": [
        "from sklearn.model_selection import train_test_split\n",
        "\n",
        "# Split into train and test sets\n",
        "x_train, x_test, y_train, y_test = train_test_split(data, target, stratify=target, test_size=0.40, random_state=0)\n",
        "\n",
        "print(\"Train Length: {} images\".format(len(x_train)))\n",
        "print(\"Test Length: {} images\".format(len(x_test)))\n"
      ],
      "execution_count": null,
      "outputs": [
        {
          "output_type": "stream",
          "text": [
            "Train Length: 18000 images\n",
            "Test Length: 12000 images\n"
          ],
          "name": "stdout"
        }
      ]
    },
    {
      "cell_type": "markdown",
      "metadata": {
        "id": "X9AdMB3PakEn"
      },
      "source": [
        "**Plotting the processed images**"
      ]
    },
    {
      "cell_type": "code",
      "metadata": {
        "colab": {
          "base_uri": "https://localhost:8080/",
          "height": 1000
        },
        "id": "X-MMKYFWt5Nm",
        "outputId": "fc287fda-fb30-4845-9809-47b5ad7710aa"
      },
      "source": [
        "for i in range(10):\n",
        "    plt.imshow(x_train[i].reshape(28,28))\n",
        "    plt.title(LABELS[(int)(y_train[i])])\n",
        "    \n",
        "    plt.show()"
      ],
      "execution_count": null,
      "outputs": [
        {
          "output_type": "display_data",
          "data": {
            "image/png": "[encoded data removed]",
            "text/plain": [
              "<Figure size 432x288 with 1 Axes>"
            ]
          },
          "metadata": {
            "tags": [],
            "needs_background": "light"
          }
        },
        {
          "output_type": "display_data",
          "data": {
            "image/png": "[encoded data removed]",
            "text/plain": [
              "<Figure size 432x288 with 1 Axes>"
            ]
          },
          "metadata": {
            "tags": [],
            "needs_background": "light"
          }
        },
        {
          "output_type": "display_data",
          "data": {
            "image/png": "[encoded data removed]",
            "text/plain": [
              "<Figure size 432x288 with 1 Axes>"
            ]
          },
          "metadata": {
            "tags": [],
            "needs_background": "light"
          }
        },
        {
          "output_type": "display_data",
          "data": {
            "image/png": "[encoded data removed]",
            "text/plain": [
              "<Figure size 432x288 with 1 Axes>"
            ]
          },
          "metadata": {
            "tags": [],
            "needs_background": "light"
          }
        },
        {
          "output_type": "display_data",
          "data": {
            "image/png": "[encoded data removed]",
            "text/plain": [
              "<Figure size 432x288 with 1 Axes>"
            ]
          },
          "metadata": {
            "tags": [],
            "needs_background": "light"
          }
        },
        {
          "output_type": "display_data",
          "data": {
            "image/png": "[encoded data removed]",
            "text/plain": [
              "<Figure size 432x288 with 1 Axes>"
            ]
          },
          "metadata": {
            "tags": [],
            "needs_background": "light"
          }
        },
        {
          "output_type": "display_data",
          "data": {
            "image/png": "[encoded data removed]",
            "text/plain": [
              "<Figure size 432x288 with 1 Axes>"
            ]
          },
          "metadata": {
            "tags": [],
            "needs_background": "light"
          }
        },
        {
          "output_type": "display_data",
          "data": {
            "image/png": "[encoded data removed]",
            "text/plain": [
              "<Figure size 432x288 with 1 Axes>"
            ]
          },
          "metadata": {
            "tags": [],
            "needs_background": "light"
          }
        },
        {
          "output_type": "display_data",
          "data": {
            "image/png": "[encoded data removed]",
            "text/plain": [
              "<Figure size 432x288 with 1 Axes>"
            ]
          },
          "metadata": {
            "tags": [],
            "needs_background": "light"
          }
        },
        {
          "output_type": "display_data",
          "data": {
            "image/png": "[encoded data removed]",
            "text/plain": [
              "<Figure size 432x288 with 1 Axes>"
            ]
          },
          "metadata": {
            "tags": [],
            "needs_background": "light"
          }
        }
      ]
    },
    {
      "cell_type": "code",
      "metadata": {
        "colab": {
          "base_uri": "https://localhost:8080/"
        },
        "id": "cyjeEWwacxc6",
        "outputId": "7fd05763-e071-4b84-ba96-4d85e911d63d"
      },
      "source": [
        "\n",
        "import keras\n",
        "\n",
        "\n",
        "# Normalize image data\n",
        "x_train = x_train.astype('float32')\n",
        "x_test = x_test.astype('float32')\n",
        "x_train /= 255\n",
        "x_test /= 255\n",
        "\n",
        "# Reshape images to 28x28x1\n",
        "x_train = x_train.reshape(x_train.shape[0], img_rows, img_cols, 1)\n",
        "x_test = x_test.reshape(x_test.shape[0], img_rows, img_cols, 1)\n",
        "\n",
        "# Switch labels to onehot encoding\n",
        "y_train_onehot = keras.utils.to_categorical(y_train, num_classes)\n",
        "y_test_onehot = keras.utils.to_categorical(y_test, num_classes)\n",
        "\n",
        "print(\"Train Sample Shape: {}\".format(x_train.shape))\n",
        "print(\"Train Label Shape: {}\".format(y_train_onehot.shape))\n"
      ],
      "execution_count": null,
      "outputs": [
        {
          "output_type": "stream",
          "text": [
            "Train Sample Shape: (18000, 28, 28, 1)\n",
            "Train Label Shape: (18000, 10)\n"
          ],
          "name": "stdout"
        }
      ]
    },
    {
      "cell_type": "markdown",
      "metadata": {
        "id": "wtM8zpU6atUg"
      },
      "source": [
        "**Part 2 - Building the CNN**"
      ]
    },
    {
      "cell_type": "code",
      "metadata": {
        "colab": {
          "base_uri": "https://localhost:8080/"
        },
        "id": "0Rq3hNCrsAet",
        "outputId": "bc854ca7-32ce-46bc-803d-af468041618f"
      },
      "source": [
        "\n",
        "\n",
        "# Initialising the CNN\n",
        "cnn = tf.keras.models.Sequential()\n",
        "\n",
        "# Step 1 - Convolution\n",
        "cnn.add(tf.keras.layers.Conv2D(filters=32, kernel_size=3, activation='relu', input_shape=[28, 28, 1]))\n",
        "\n",
        "# Step 2 - Pooling\n",
        "cnn.add(tf.keras.layers.MaxPool2D(pool_size=2, strides=2))\n",
        "\n",
        "# Adding a second convolutional layer\n",
        "cnn.add(tf.keras.layers.Conv2D(filters=32, kernel_size=3, activation='relu'))\n",
        "# Maxpool\n",
        "cnn.add(tf.keras.layers.MaxPool2D(pool_size=2, strides=2))\n",
        "\n",
        "# Adding a thrid convolutional layer\n",
        "cnn.add(tf.keras.layers.Conv2D(filters=32, kernel_size=3, activation='relu'))\n",
        "# Maxpool\n",
        "cnn.add(tf.keras.layers.MaxPool2D(pool_size=2, strides=2))\n",
        "\n",
        "\n",
        "# Step 3 - Flattening\n",
        "cnn.add(tf.keras.layers.Flatten())\n",
        "\n",
        "# Step 4 - Full Connection\n",
        "cnn.add(tf.keras.layers.Dense(units=256, activation='relu'))\n",
        "#cnn.add(tf.keras.layers.Dropout(0.5, input_shape=(2,)))\n",
        "\n",
        "# Step 5 - Output Layer\n",
        "cnn.add(tf.keras.layers.Dense(10, activation='sigmoid'))\n",
        "#cnn.add(tf.keras.layers.Dense(10, activation='softmax'))\n",
        "\n",
        "# Part 3 - Training the CNN\n",
        "\n",
        "# Compiling the CNN\n",
        "cnn.compile(optimizer = 'adam', loss = 'binary_crossentropy', metrics = ['accuracy'])\n",
        "\n",
        "# Training the CNN on the Training set and evaluating it on the Test set\n",
        "history = cnn.fit(x_train, y_train_onehot, epochs = 20)\n",
        "\n",
        "print(cnn.summary())\n",
        "\n",
        "# Print the validation result\n",
        "_, accuracy = cnn.evaluate(x_test, y_test_onehot, verbose=1)\n",
        "print(\"Accuracy on test set: {:.3f}\".format(accuracy))\n",
        "\n"
      ],
      "execution_count": null,
      "outputs": [
        {
          "output_type": "stream",
          "text": [
            "Epoch 1/20\n",
            "563/563 [==============================] - 15s 25ms/step - loss: 0.2994 - accuracy: 0.3198\n",
            "Epoch 2/20\n",
            "563/563 [==============================] - 14s 25ms/step - loss: 0.1529 - accuracy: 0.6959\n",
            "Epoch 3/20\n",
            "563/563 [==============================] - 14s 24ms/step - loss: 0.1288 - accuracy: 0.7457\n",
            "Epoch 4/20\n",
            "563/563 [==============================] - 13s 24ms/step - loss: 0.1161 - accuracy: 0.7745\n",
            "Epoch 5/20\n",
            "563/563 [==============================] - 14s 25ms/step - loss: 0.1080 - accuracy: 0.7919\n",
            "Epoch 6/20\n",
            "563/563 [==============================] - 14s 25ms/step - loss: 0.1000 - accuracy: 0.8071\n",
            "Epoch 7/20\n",
            "563/563 [==============================] - 14s 25ms/step - loss: 0.0912 - accuracy: 0.8289\n",
            "Epoch 8/20\n",
            "563/563 [==============================] - 14s 25ms/step - loss: 0.0876 - accuracy: 0.8296\n",
            "Epoch 9/20\n",
            "563/563 [==============================] - 14s 25ms/step - loss: 0.0798 - accuracy: 0.8459\n",
            "Epoch 10/20\n",
            "563/563 [==============================] - 14s 25ms/step - loss: 0.0780 - accuracy: 0.8483\n",
            "Epoch 11/20\n",
            "563/563 [==============================] - 14s 25ms/step - loss: 0.0721 - accuracy: 0.8650\n",
            "Epoch 12/20\n",
            "563/563 [==============================] - 14s 26ms/step - loss: 0.0717 - accuracy: 0.8643\n",
            "Epoch 13/20\n",
            "563/563 [==============================] - 15s 26ms/step - loss: 0.0678 - accuracy: 0.8711\n",
            "Epoch 14/20\n",
            "563/563 [==============================] - 14s 26ms/step - loss: 0.0663 - accuracy: 0.8760\n",
            "Epoch 15/20\n",
            "563/563 [==============================] - 15s 26ms/step - loss: 0.0624 - accuracy: 0.8808\n",
            "Epoch 16/20\n",
            "563/563 [==============================] - 15s 26ms/step - loss: 0.0589 - accuracy: 0.8873\n",
            "Epoch 17/20\n",
            "563/563 [==============================] - 15s 26ms/step - loss: 0.0557 - accuracy: 0.8950\n",
            "Epoch 18/20\n",
            "563/563 [==============================] - 15s 27ms/step - loss: 0.0551 - accuracy: 0.8966\n",
            "Epoch 19/20\n",
            "563/563 [==============================] - 15s 26ms/step - loss: 0.0536 - accuracy: 0.8999\n",
            "Epoch 20/20\n",
            "563/563 [==============================] - 14s 25ms/step - loss: 0.0509 - accuracy: 0.9000\n",
            "Model: \"sequential\"\n",
            "_________________________________________________________________\n",
            "Layer (type)                 Output Shape              Param #   \n",
            "=================================================================\n",
            "conv2d (Conv2D)              (None, 26, 26, 32)        320       \n",
            "_________________________________________________________________\n",
            "max_pooling2d (MaxPooling2D) (None, 13, 13, 32)        0         \n",
            "_________________________________________________________________\n",
            "conv2d_1 (Conv2D)            (None, 11, 11, 32)        9248      \n",
            "_________________________________________________________________\n",
            "max_pooling2d_1 (MaxPooling2 (None, 5, 5, 32)          0         \n",
            "_________________________________________________________________\n",
            "conv2d_2 (Conv2D)            (None, 3, 3, 32)          9248      \n",
            "_________________________________________________________________\n",
            "max_pooling2d_2 (MaxPooling2 (None, 1, 1, 32)          0         \n",
            "_________________________________________________________________\n",
            "flatten (Flatten)            (None, 32)                0         \n",
            "_________________________________________________________________\n",
            "dense (Dense)                (None, 256)               8448      \n",
            "_________________________________________________________________\n",
            "dense_1 (Dense)              (None, 10)                2570      \n",
            "=================================================================\n",
            "Total params: 29,834\n",
            "Trainable params: 29,834\n",
            "Non-trainable params: 0\n",
            "_________________________________________________________________\n",
            "None\n",
            "375/375 [==============================] - 3s 8ms/step - loss: 0.1110 - accuracy: 0.8092\n",
            "Accuracy on test set: 0.809\n"
          ],
          "name": "stdout"
        }
      ]
    },
    {
      "cell_type": "code",
      "metadata": {
        "id": "LhNjzx9LPGuv"
      },
      "source": [
        ""
      ],
      "execution_count": null,
      "outputs": []
    },
    {
      "cell_type": "markdown",
      "metadata": {
        "id": "6hA-wcama0gr"
      },
      "source": [
        "**Save the model to Google Colab for future test**"
      ]
    },
    {
      "cell_type": "code",
      "metadata": {
        "id": "fTl52DvSGCI-"
      },
      "source": [
        "from keras.models import load_model\n",
        "\n",
        "cnn.save('cnn-model.h5')"
      ],
      "execution_count": null,
      "outputs": []
    },
    {
      "cell_type": "markdown",
      "metadata": {
        "id": "3l7FtXJSa6vk"
      },
      "source": [
        "**Testing a single image on Google colab **bold text**"
      ]
    },
    {
      "cell_type": "code",
      "metadata": {
        "id": "fRyIKefV8lYP",
        "colab": {
          "base_uri": "https://localhost:8080/",
          "height": 105
        },
        "outputId": "0c7a523c-eca1-4e34-f780-1c02ba207409"
      },
      "source": [
        "\n",
        "import glob\n",
        "from keras.preprocessing import image\n",
        "cwd = os.getcwd()\n",
        "for model in glob.glob(cwd + '/*.h5'):\n",
        "  reconstructed_model = keras.models.load_model(model)\n",
        "  print(\"////////////////////////////\")\n",
        "  print(\"model: \" , model)\n",
        "  for file in glob.glob(cwd + '/*.jpg'):\n",
        "\n",
        "    test_image = Image.open(file)\n",
        "\n",
        "\n",
        "    img2 = test_image.convert(\"L\")\n",
        "\n",
        "\n",
        "    arr = np.array(img2)\n",
        "    arr2 = np.reshape(arr, (1,28,28,1))\n",
        "    arr2 = arr2 / 255\n",
        "\n",
        "    pred = reconstructed_model.predict(arr2)\n",
        "    i = y_train[np.argmax(pred)]\n",
        "    index = (int)(i[0])\n",
        "    #print(file)\n",
        "    print(file, LABELS[index])\n",
        "\n",
        "\n"
      ],
      "execution_count": null,
      "outputs": [
        {
          "output_type": "execute_result",
          "data": {
            "application/vnd.google.colaboratory.intrinsic+json": {
              "type": "string"
            },
            "text/plain": [
              "'\\nimport glob\\nfrom keras.preprocessing import image\\ncwd = os.getcwd()\\nfor model in glob.glob(cwd + \\'/*.h5\\'):\\n  reconstructed_model = keras.models.load_model(model)\\n  print(\"////////////////////////////\")\\n  print(\"model: \" , model)\\n  for file in glob.glob(cwd + \\'/*.jpg\\'):\\n\\n    test_image = Image.open(file)\\n\\n\\n    img2 = test_image.convert(\"L\")\\n\\n\\n    arr = np.array(img2)\\n    arr2 = np.reshape(arr, (1,28,28,1))\\n    arr2 = arr2 / 255\\n\\n    pred = reconstructed_model.predict(arr2)\\n    i = y_train[np.argmax(pred)]\\n    index = (int)(i[0])\\n    #print(file)\\n    print(file, LABELS[index])\\n\\n'"
            ]
          },
          "metadata": {
            "tags": []
          },
          "execution_count": 10
        }
      ]
    },
    {
      "cell_type": "code",
      "metadata": {
        "id": "6F8nyNIX9lhE"
      },
      "source": [
        ""
      ],
      "execution_count": null,
      "outputs": []
    }
  ]
}